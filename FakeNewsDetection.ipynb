{
  "nbformat": 4,
  "nbformat_minor": 0,
  "metadata": {
    "colab": {
      "provenance": [],
      "gpuType": "T4",
      "authorship_tag": "ABX9TyO/KapfeKV4uKMAYn/dnPgk",
      "include_colab_link": true
    },
    "kernelspec": {
      "name": "python3",
      "display_name": "Python 3"
    },
    "language_info": {
      "name": "python"
    },
    "accelerator": "GPU"
  },
  "cells": [
    {
      "cell_type": "markdown",
      "metadata": {
        "id": "view-in-github",
        "colab_type": "text"
      },
      "source": [
        "<a href=\"https://colab.research.google.com/github/Koks-creator/FakeNewsDetectionApi/blob/main/FakeNewsDetection.ipynb\" target=\"_parent\"><img src=\"https://colab.research.google.com/assets/colab-badge.svg\" alt=\"Open In Colab\"/></a>"
      ]
    },
    {
      "cell_type": "code",
      "execution_count": null,
      "metadata": {
        "id": "JBgPR_LFp2YD"
      },
      "outputs": [],
      "source": [
        "import re\n",
        "import string\n",
        "from typing import Tuple\n",
        "from collections import Counter, defaultdict\n",
        "import pickle\n",
        "from sklearn.model_selection import train_test_split\n",
        "from keras.preprocessing.text import Tokenizer\n",
        "from keras.preprocessing.sequence import pad_sequences\n",
        "from keras import layers\n",
        "from keras.models import Sequential\n",
        "import tensorflow as tf\n",
        "import numpy as np\n",
        "import pandas as pd\n",
        "import matplotlib.pyplot as plt"
      ]
    },
    {
      "cell_type": "code",
      "source": [
        "MAX_SEQUENCE_LENGTH = 6000\n",
        "EMBEDDING_DIM = 256\n",
        "TEST_SPLIT = 0.2\n",
        "BATCH_SIZE = 32\n",
        "EPOCHS = 5\n",
        "CLASSES = [\"Fake\", \"Real\"]\n",
        "\n",
        "TEXT_DATA = 'https://raw.githubusercontent.com/lutzhamel/fake-news/master/data/fake_or_real_news.csv'\n",
        "TOKENIZER_PATH = \"tokenizer.pkl\"\n",
        "MODEL_PATH = \"FakeNewsModel.h5\""
      ],
      "metadata": {
        "id": "UOxd5Y_Rp3CB"
      },
      "execution_count": null,
      "outputs": []
    },
    {
      "cell_type": "markdown",
      "source": [
        "**Preprocess data**"
      ],
      "metadata": {
        "id": "KF6TMIJn-Zm_"
      }
    },
    {
      "cell_type": "code",
      "source": [
        "df = pd.read_csv(TEXT_DATA)\n",
        "df.drop(labels=['id', 'title'], axis='columns', inplace=True)\n",
        "mask = list(df['text'].apply(lambda x: len(x) > 0))\n",
        "df = df[mask]"
      ],
      "metadata": {
        "id": "r0X1jROR-dtO"
      },
      "execution_count": null,
      "outputs": []
    },
    {
      "cell_type": "code",
      "source": [
        "df[['text', 'label']].iloc[2].text"
      ],
      "metadata": {
        "colab": {
          "base_uri": "https://localhost:8080/",
          "height": 140
        },
        "id": "dBSCMbwbNJ9z",
        "outputId": "a4f39557-9f33-42c1-cc72-63cc849c29b9"
      },
      "execution_count": null,
      "outputs": [
        {
          "output_type": "execute_result",
          "data": {
            "text/plain": [
              "'U.S. Secretary of State John F. Kerry said Monday that he will stop in Paris later this week, amid criticism that no top American officials attended Sunday’s unity march against terrorism.\\n\\nKerry said he expects to arrive in Paris Thursday evening, as he heads home after a week abroad. He said he will fly to France at the conclusion of a series of meetings scheduled for Thursday in Sofia, Bulgaria. He plans to meet the next day with Foreign Minister Laurent Fabius and President Francois Hollande, then return to Washington.\\n\\nThe visit by Kerry, who has family and childhood ties to the country and speaks fluent French, could address some of the criticism that the United States snubbed France in its darkest hour in many years.\\n\\nThe French press on Monday was filled with questions about why neither President Obama nor Kerry attended Sunday’s march, as about 40 leaders of other nations did. Obama was said to have stayed away because his own security needs can be taxing on a country, and Kerry had prior commitments.\\n\\nAmong roughly 40 leaders who did attend was Israeli Prime Minister Benjamin Netanyahu, no stranger to intense security, who marched beside Hollande through the city streets. The highest ranking U.S. officials attending the march were Jane Hartley, the ambassador to France, and Victoria Nuland, the assistant secretary of state for European affairs. Attorney General Eric H. Holder Jr. was in Paris for meetings with law enforcement officials but did not participate in the march.\\n\\nKerry spent Sunday at a business summit hosted by India’s prime minister, Narendra Modi. The United States is eager for India to relax stringent laws that function as barriers to foreign investment and hopes Modi’s government will act to open the huge Indian market for more American businesses.\\n\\nIn a news conference, Kerry brushed aside criticism that the United States had not sent a more senior official to Paris as “quibbling a little bit.” He noted that many staffers of the American Embassy in Paris attended the march, including the ambassador. He said he had wanted to be present at the march himself but could not because of his prior commitments in India.\\n\\n“But that is why I am going there on the way home, to make it crystal clear how passionately we feel about the events that have taken place there,” he said.\\n\\n“And I don’t think the people of France have any doubts about America’s understanding of what happened, of our personal sense of loss and our deep commitment to the people of France in this moment of trauma.”'"
            ],
            "application/vnd.google.colaboratory.intrinsic+json": {
              "type": "string"
            }
          },
          "metadata": {},
          "execution_count": 122
        }
      ]
    },
    {
      "cell_type": "code",
      "source": [
        "df[\"IntLabel\"] = df[\"label\"].apply(lambda x: 0 if x == \"FAKE\" else 1)\n",
        "# df[\"IntLabel\"] = df[\"label\"].apply(lambda x: 0 if x == \"REAL\" else 1)"
      ],
      "metadata": {
        "id": "cknTpe3jAUjn"
      },
      "execution_count": null,
      "outputs": []
    },
    {
      "cell_type": "code",
      "source": [
        "df[['text', 'label', 'IntLabel']]"
      ],
      "metadata": {
        "colab": {
          "base_uri": "https://localhost:8080/",
          "height": 423
        },
        "id": "xwvMypa_PVqU",
        "outputId": "b7a3d239-5a71-4c4c-c40f-a77baee7d4e5"
      },
      "execution_count": null,
      "outputs": [
        {
          "output_type": "execute_result",
          "data": {
            "text/plain": [
              "                                                   text label  IntLabel\n",
              "0     Daniel Greenfield, a Shillman Journalism Fello...  FAKE         0\n",
              "1     Google Pinterest Digg Linkedin Reddit Stumbleu...  FAKE         0\n",
              "2     U.S. Secretary of State John F. Kerry said Mon...  REAL         1\n",
              "3     — Kaydee King (@KaydeeKing) November 9, 2016 T...  FAKE         0\n",
              "4     It's primary day in New York and front-runners...  REAL         1\n",
              "...                                                 ...   ...       ...\n",
              "6330  The State Department told the Republican Natio...  REAL         1\n",
              "6331  The ‘P’ in PBS Should Stand for ‘Plutocratic’ ...  FAKE         0\n",
              "6332   Anti-Trump Protesters Are Tools of the Oligar...  FAKE         0\n",
              "6333  ADDIS ABABA, Ethiopia —President Obama convene...  REAL         1\n",
              "6334  Jeb Bush Is Suddenly Attacking Trump. Here's W...  REAL         1\n",
              "\n",
              "[6335 rows x 3 columns]"
            ],
            "text/html": [
              "\n",
              "  <div id=\"df-195a25e4-1ad8-4e00-884a-525ea7f33cc8\" class=\"colab-df-container\">\n",
              "    <div>\n",
              "<style scoped>\n",
              "    .dataframe tbody tr th:only-of-type {\n",
              "        vertical-align: middle;\n",
              "    }\n",
              "\n",
              "    .dataframe tbody tr th {\n",
              "        vertical-align: top;\n",
              "    }\n",
              "\n",
              "    .dataframe thead th {\n",
              "        text-align: right;\n",
              "    }\n",
              "</style>\n",
              "<table border=\"1\" class=\"dataframe\">\n",
              "  <thead>\n",
              "    <tr style=\"text-align: right;\">\n",
              "      <th></th>\n",
              "      <th>text</th>\n",
              "      <th>label</th>\n",
              "      <th>IntLabel</th>\n",
              "    </tr>\n",
              "  </thead>\n",
              "  <tbody>\n",
              "    <tr>\n",
              "      <th>0</th>\n",
              "      <td>Daniel Greenfield, a Shillman Journalism Fello...</td>\n",
              "      <td>FAKE</td>\n",
              "      <td>0</td>\n",
              "    </tr>\n",
              "    <tr>\n",
              "      <th>1</th>\n",
              "      <td>Google Pinterest Digg Linkedin Reddit Stumbleu...</td>\n",
              "      <td>FAKE</td>\n",
              "      <td>0</td>\n",
              "    </tr>\n",
              "    <tr>\n",
              "      <th>2</th>\n",
              "      <td>U.S. Secretary of State John F. Kerry said Mon...</td>\n",
              "      <td>REAL</td>\n",
              "      <td>1</td>\n",
              "    </tr>\n",
              "    <tr>\n",
              "      <th>3</th>\n",
              "      <td>— Kaydee King (@KaydeeKing) November 9, 2016 T...</td>\n",
              "      <td>FAKE</td>\n",
              "      <td>0</td>\n",
              "    </tr>\n",
              "    <tr>\n",
              "      <th>4</th>\n",
              "      <td>It's primary day in New York and front-runners...</td>\n",
              "      <td>REAL</td>\n",
              "      <td>1</td>\n",
              "    </tr>\n",
              "    <tr>\n",
              "      <th>...</th>\n",
              "      <td>...</td>\n",
              "      <td>...</td>\n",
              "      <td>...</td>\n",
              "    </tr>\n",
              "    <tr>\n",
              "      <th>6330</th>\n",
              "      <td>The State Department told the Republican Natio...</td>\n",
              "      <td>REAL</td>\n",
              "      <td>1</td>\n",
              "    </tr>\n",
              "    <tr>\n",
              "      <th>6331</th>\n",
              "      <td>The ‘P’ in PBS Should Stand for ‘Plutocratic’ ...</td>\n",
              "      <td>FAKE</td>\n",
              "      <td>0</td>\n",
              "    </tr>\n",
              "    <tr>\n",
              "      <th>6332</th>\n",
              "      <td>Anti-Trump Protesters Are Tools of the Oligar...</td>\n",
              "      <td>FAKE</td>\n",
              "      <td>0</td>\n",
              "    </tr>\n",
              "    <tr>\n",
              "      <th>6333</th>\n",
              "      <td>ADDIS ABABA, Ethiopia —President Obama convene...</td>\n",
              "      <td>REAL</td>\n",
              "      <td>1</td>\n",
              "    </tr>\n",
              "    <tr>\n",
              "      <th>6334</th>\n",
              "      <td>Jeb Bush Is Suddenly Attacking Trump. Here's W...</td>\n",
              "      <td>REAL</td>\n",
              "      <td>1</td>\n",
              "    </tr>\n",
              "  </tbody>\n",
              "</table>\n",
              "<p>6335 rows × 3 columns</p>\n",
              "</div>\n",
              "    <div class=\"colab-df-buttons\">\n",
              "\n",
              "  <div class=\"colab-df-container\">\n",
              "    <button class=\"colab-df-convert\" onclick=\"convertToInteractive('df-195a25e4-1ad8-4e00-884a-525ea7f33cc8')\"\n",
              "            title=\"Convert this dataframe to an interactive table.\"\n",
              "            style=\"display:none;\">\n",
              "\n",
              "  <svg xmlns=\"http://www.w3.org/2000/svg\" height=\"24px\" viewBox=\"0 -960 960 960\">\n",
              "    <path d=\"M120-120v-720h720v720H120Zm60-500h600v-160H180v160Zm220 220h160v-160H400v160Zm0 220h160v-160H400v160ZM180-400h160v-160H180v160Zm440 0h160v-160H620v160ZM180-180h160v-160H180v160Zm440 0h160v-160H620v160Z\"/>\n",
              "  </svg>\n",
              "    </button>\n",
              "\n",
              "  <style>\n",
              "    .colab-df-container {\n",
              "      display:flex;\n",
              "      gap: 12px;\n",
              "    }\n",
              "\n",
              "    .colab-df-convert {\n",
              "      background-color: #E8F0FE;\n",
              "      border: none;\n",
              "      border-radius: 50%;\n",
              "      cursor: pointer;\n",
              "      display: none;\n",
              "      fill: #1967D2;\n",
              "      height: 32px;\n",
              "      padding: 0 0 0 0;\n",
              "      width: 32px;\n",
              "    }\n",
              "\n",
              "    .colab-df-convert:hover {\n",
              "      background-color: #E2EBFA;\n",
              "      box-shadow: 0px 1px 2px rgba(60, 64, 67, 0.3), 0px 1px 3px 1px rgba(60, 64, 67, 0.15);\n",
              "      fill: #174EA6;\n",
              "    }\n",
              "\n",
              "    .colab-df-buttons div {\n",
              "      margin-bottom: 4px;\n",
              "    }\n",
              "\n",
              "    [theme=dark] .colab-df-convert {\n",
              "      background-color: #3B4455;\n",
              "      fill: #D2E3FC;\n",
              "    }\n",
              "\n",
              "    [theme=dark] .colab-df-convert:hover {\n",
              "      background-color: #434B5C;\n",
              "      box-shadow: 0px 1px 3px 1px rgba(0, 0, 0, 0.15);\n",
              "      filter: drop-shadow(0px 1px 2px rgba(0, 0, 0, 0.3));\n",
              "      fill: #FFFFFF;\n",
              "    }\n",
              "  </style>\n",
              "\n",
              "    <script>\n",
              "      const buttonEl =\n",
              "        document.querySelector('#df-195a25e4-1ad8-4e00-884a-525ea7f33cc8 button.colab-df-convert');\n",
              "      buttonEl.style.display =\n",
              "        google.colab.kernel.accessAllowed ? 'block' : 'none';\n",
              "\n",
              "      async function convertToInteractive(key) {\n",
              "        const element = document.querySelector('#df-195a25e4-1ad8-4e00-884a-525ea7f33cc8');\n",
              "        const dataTable =\n",
              "          await google.colab.kernel.invokeFunction('convertToInteractive',\n",
              "                                                    [key], {});\n",
              "        if (!dataTable) return;\n",
              "\n",
              "        const docLinkHtml = 'Like what you see? Visit the ' +\n",
              "          '<a target=\"_blank\" href=https://colab.research.google.com/notebooks/data_table.ipynb>data table notebook</a>'\n",
              "          + ' to learn more about interactive tables.';\n",
              "        element.innerHTML = '';\n",
              "        dataTable['output_type'] = 'display_data';\n",
              "        await google.colab.output.renderOutput(dataTable, element);\n",
              "        const docLink = document.createElement('div');\n",
              "        docLink.innerHTML = docLinkHtml;\n",
              "        element.appendChild(docLink);\n",
              "      }\n",
              "    </script>\n",
              "  </div>\n",
              "\n",
              "\n",
              "<div id=\"df-532aa269-91d2-471d-85b0-ff0a5c2af778\">\n",
              "  <button class=\"colab-df-quickchart\" onclick=\"quickchart('df-532aa269-91d2-471d-85b0-ff0a5c2af778')\"\n",
              "            title=\"Suggest charts\"\n",
              "            style=\"display:none;\">\n",
              "\n",
              "<svg xmlns=\"http://www.w3.org/2000/svg\" height=\"24px\"viewBox=\"0 0 24 24\"\n",
              "     width=\"24px\">\n",
              "    <g>\n",
              "        <path d=\"M19 3H5c-1.1 0-2 .9-2 2v14c0 1.1.9 2 2 2h14c1.1 0 2-.9 2-2V5c0-1.1-.9-2-2-2zM9 17H7v-7h2v7zm4 0h-2V7h2v10zm4 0h-2v-4h2v4z\"/>\n",
              "    </g>\n",
              "</svg>\n",
              "  </button>\n",
              "\n",
              "<style>\n",
              "  .colab-df-quickchart {\n",
              "      --bg-color: #E8F0FE;\n",
              "      --fill-color: #1967D2;\n",
              "      --hover-bg-color: #E2EBFA;\n",
              "      --hover-fill-color: #174EA6;\n",
              "      --disabled-fill-color: #AAA;\n",
              "      --disabled-bg-color: #DDD;\n",
              "  }\n",
              "\n",
              "  [theme=dark] .colab-df-quickchart {\n",
              "      --bg-color: #3B4455;\n",
              "      --fill-color: #D2E3FC;\n",
              "      --hover-bg-color: #434B5C;\n",
              "      --hover-fill-color: #FFFFFF;\n",
              "      --disabled-bg-color: #3B4455;\n",
              "      --disabled-fill-color: #666;\n",
              "  }\n",
              "\n",
              "  .colab-df-quickchart {\n",
              "    background-color: var(--bg-color);\n",
              "    border: none;\n",
              "    border-radius: 50%;\n",
              "    cursor: pointer;\n",
              "    display: none;\n",
              "    fill: var(--fill-color);\n",
              "    height: 32px;\n",
              "    padding: 0;\n",
              "    width: 32px;\n",
              "  }\n",
              "\n",
              "  .colab-df-quickchart:hover {\n",
              "    background-color: var(--hover-bg-color);\n",
              "    box-shadow: 0 1px 2px rgba(60, 64, 67, 0.3), 0 1px 3px 1px rgba(60, 64, 67, 0.15);\n",
              "    fill: var(--button-hover-fill-color);\n",
              "  }\n",
              "\n",
              "  .colab-df-quickchart-complete:disabled,\n",
              "  .colab-df-quickchart-complete:disabled:hover {\n",
              "    background-color: var(--disabled-bg-color);\n",
              "    fill: var(--disabled-fill-color);\n",
              "    box-shadow: none;\n",
              "  }\n",
              "\n",
              "  .colab-df-spinner {\n",
              "    border: 2px solid var(--fill-color);\n",
              "    border-color: transparent;\n",
              "    border-bottom-color: var(--fill-color);\n",
              "    animation:\n",
              "      spin 1s steps(1) infinite;\n",
              "  }\n",
              "\n",
              "  @keyframes spin {\n",
              "    0% {\n",
              "      border-color: transparent;\n",
              "      border-bottom-color: var(--fill-color);\n",
              "      border-left-color: var(--fill-color);\n",
              "    }\n",
              "    20% {\n",
              "      border-color: transparent;\n",
              "      border-left-color: var(--fill-color);\n",
              "      border-top-color: var(--fill-color);\n",
              "    }\n",
              "    30% {\n",
              "      border-color: transparent;\n",
              "      border-left-color: var(--fill-color);\n",
              "      border-top-color: var(--fill-color);\n",
              "      border-right-color: var(--fill-color);\n",
              "    }\n",
              "    40% {\n",
              "      border-color: transparent;\n",
              "      border-right-color: var(--fill-color);\n",
              "      border-top-color: var(--fill-color);\n",
              "    }\n",
              "    60% {\n",
              "      border-color: transparent;\n",
              "      border-right-color: var(--fill-color);\n",
              "    }\n",
              "    80% {\n",
              "      border-color: transparent;\n",
              "      border-right-color: var(--fill-color);\n",
              "      border-bottom-color: var(--fill-color);\n",
              "    }\n",
              "    90% {\n",
              "      border-color: transparent;\n",
              "      border-bottom-color: var(--fill-color);\n",
              "    }\n",
              "  }\n",
              "</style>\n",
              "\n",
              "  <script>\n",
              "    async function quickchart(key) {\n",
              "      const quickchartButtonEl =\n",
              "        document.querySelector('#' + key + ' button');\n",
              "      quickchartButtonEl.disabled = true;  // To prevent multiple clicks.\n",
              "      quickchartButtonEl.classList.add('colab-df-spinner');\n",
              "      try {\n",
              "        const charts = await google.colab.kernel.invokeFunction(\n",
              "            'suggestCharts', [key], {});\n",
              "      } catch (error) {\n",
              "        console.error('Error during call to suggestCharts:', error);\n",
              "      }\n",
              "      quickchartButtonEl.classList.remove('colab-df-spinner');\n",
              "      quickchartButtonEl.classList.add('colab-df-quickchart-complete');\n",
              "    }\n",
              "    (() => {\n",
              "      let quickchartButtonEl =\n",
              "        document.querySelector('#df-532aa269-91d2-471d-85b0-ff0a5c2af778 button');\n",
              "      quickchartButtonEl.style.display =\n",
              "        google.colab.kernel.accessAllowed ? 'block' : 'none';\n",
              "    })();\n",
              "  </script>\n",
              "</div>\n",
              "    </div>\n",
              "  </div>\n"
            ]
          },
          "metadata": {},
          "execution_count": 124
        }
      ]
    },
    {
      "cell_type": "code",
      "source": [
        "texts = df[\"text\"]\n",
        "labels = df[\"IntLabel\"]"
      ],
      "metadata": {
        "id": "-Qeu8s79-nz2"
      },
      "execution_count": null,
      "outputs": []
    },
    {
      "cell_type": "code",
      "source": [
        "text_lengths = texts.apply(lambda x: len(x.split(\" \")))\n",
        "plt.hist(text_lengths)\n",
        "plt.show()"
      ],
      "metadata": {
        "colab": {
          "base_uri": "https://localhost:8080/",
          "height": 430
        },
        "id": "Z4ovqgSiGyzg",
        "outputId": "0a95fe83-d6ab-4b1f-ed52-bd06915b688a"
      },
      "execution_count": null,
      "outputs": [
        {
          "output_type": "display_data",
          "data": {
            "text/plain": [
              "<Figure size 640x480 with 1 Axes>"
            ],
            "image/png": "[encoded data removed]"
          },
          "metadata": {}
        }
      ]
    },
    {
      "cell_type": "code",
      "source": [
        "print(df[\"text\"][df[\"IntLabel\"] == 1].count())\n",
        "print(df[\"text\"][df[\"IntLabel\"] == 0].count())"
      ],
      "metadata": {
        "colab": {
          "base_uri": "https://localhost:8080/"
        },
        "id": "4RsTZ4b5_kTf",
        "outputId": "76183a61-cd3e-45ff-d887-71a6f57e643b"
      },
      "execution_count": null,
      "outputs": [
        {
          "output_type": "stream",
          "name": "stdout",
          "text": [
            "3171\n",
            "3164\n"
          ]
        }
      ]
    },
    {
      "cell_type": "code",
      "source": [
        "df[\"text\"]"
      ],
      "metadata": {
        "colab": {
          "base_uri": "https://localhost:8080/"
        },
        "id": "mW03iPSZBFLO",
        "outputId": "ee03b31e-1457-4ab0-daa4-23a047de44d1"
      },
      "execution_count": null,
      "outputs": [
        {
          "output_type": "execute_result",
          "data": {
            "text/plain": [
              "0       Daniel Greenfield, a Shillman Journalism Fello...\n",
              "1       Google Pinterest Digg Linkedin Reddit Stumbleu...\n",
              "2       U.S. Secretary of State John F. Kerry said Mon...\n",
              "3       — Kaydee King (@KaydeeKing) November 9, 2016 T...\n",
              "4       It's primary day in New York and front-runners...\n",
              "                              ...                        \n",
              "6330    The State Department told the Republican Natio...\n",
              "6331    The ‘P’ in PBS Should Stand for ‘Plutocratic’ ...\n",
              "6332     Anti-Trump Protesters Are Tools of the Oligar...\n",
              "6333    ADDIS ABABA, Ethiopia —President Obama convene...\n",
              "6334    Jeb Bush Is Suddenly Attacking Trump. Here's W...\n",
              "Name: text, Length: 6335, dtype: object"
            ]
          },
          "metadata": {},
          "execution_count": 128
        }
      ]
    },
    {
      "cell_type": "code",
      "source": [
        "class DataCleaning:\n",
        "\n",
        "    @staticmethod\n",
        "    def remove_html_tags(raw_text: str) -> str:\n",
        "        cleanr = re.compile(\"<.*?>\")\n",
        "        cleantext = re.sub(cleanr, '', raw_text)\n",
        "        return cleantext\n",
        "\n",
        "    @staticmethod\n",
        "    def remove_url(text: str) -> str:\n",
        "        url_pattern = re.compile(r\"http[s]?://\\S+.\\S+.\\S+\")\n",
        "        return url_pattern.sub(r\"\", text)\n",
        "\n",
        "    @staticmethod\n",
        "    def remove_punct(text: str) -> str:\n",
        "        translator = str.maketrans(\"\", \"\", string.punctuation)\n",
        "        return text.translate(translator)\n",
        "\n",
        "    @staticmethod\n",
        "    def remove_non_ascii(text: str) -> str:\n",
        "        pattern = re.compile(r\"[^\\x00-\\x7f][ ]?\")\n",
        "        return pattern.sub(r\"\", text)"
      ],
      "metadata": {
        "id": "WDC8af9aA1WW"
      },
      "execution_count": null,
      "outputs": []
    },
    {
      "cell_type": "code",
      "source": [
        "dc = DataCleaning()\n",
        "\n",
        "texts = texts.apply(lambda x: dc.remove_html_tags(x))\n",
        "texts = texts.apply(lambda x: dc.remove_url(x))\n",
        "texts = texts.apply(lambda x: dc.remove_punct(x))\n",
        "texts = texts.apply(lambda x: dc.remove_non_ascii(x))"
      ],
      "metadata": {
        "id": "jBYcrlMFDAhX"
      },
      "execution_count": null,
      "outputs": []
    },
    {
      "cell_type": "code",
      "source": [
        "texts"
      ],
      "metadata": {
        "colab": {
          "base_uri": "https://localhost:8080/"
        },
        "id": "TMlIZmQEGFlv",
        "outputId": "daa5276b-df2c-4cb9-ab6a-469c98c282e9"
      },
      "execution_count": null,
      "outputs": [
        {
          "output_type": "execute_result",
          "data": {
            "text/plain": [
              "0       Daniel Greenfield a Shillman Journalism Fellow...\n",
              "1       Google Pinterest Digg Linkedin Reddit Stumbleu...\n",
              "2       US Secretary of State John F Kerry said Monday...\n",
              "3       Kaydee King KaydeeKing November 9 2016 The les...\n",
              "4       Its primary day in New York and frontrunners H...\n",
              "                              ...                        \n",
              "6330    The State Department told the Republican Natio...\n",
              "6331    The Pin PBS Should Stand for Plutocraticor Pen...\n",
              "6332     AntiTrump Protesters Are Tools of the Oligarc...\n",
              "6333    ADDIS ABABA Ethiopia President Obama convened ...\n",
              "6334    Jeb Bush Is Suddenly Attacking Trump Heres Why...\n",
              "Name: text, Length: 6335, dtype: object"
            ]
          },
          "metadata": {},
          "execution_count": 131
        }
      ]
    },
    {
      "cell_type": "code",
      "source": [
        "# Count words\n",
        "\n",
        "def count_words(col: pd.Series) -> Counter:\n",
        "    count = Counter()\n",
        "\n",
        "    for text in col.values:\n",
        "        for word in text.split():\n",
        "            count[word] += 1\n",
        "\n",
        "    return count"
      ],
      "metadata": {
        "id": "_EGF4Po-DMZf"
      },
      "execution_count": null,
      "outputs": []
    },
    {
      "cell_type": "code",
      "source": [
        "word_counter = count_words(texts)\n",
        "unique_num_words = len(word_counter)"
      ],
      "metadata": {
        "id": "CeAzZk1oDW_P"
      },
      "execution_count": null,
      "outputs": []
    },
    {
      "cell_type": "code",
      "source": [
        "unique_num_words"
      ],
      "metadata": {
        "colab": {
          "base_uri": "https://localhost:8080/"
        },
        "id": "CeMqm04jEFbf",
        "outputId": "95e61d37-2607-417c-fb9e-c467a2b8d149"
      },
      "execution_count": null,
      "outputs": [
        {
          "output_type": "execute_result",
          "data": {
            "text/plain": [
              "135017"
            ]
          },
          "metadata": {},
          "execution_count": 134
        }
      ]
    },
    {
      "cell_type": "code",
      "source": [
        "# Setup tokenizer\n",
        "\n",
        "tokenizer = Tokenizer(num_words=unique_num_words)\n",
        "tokenizer.fit_on_texts(texts)"
      ],
      "metadata": {
        "id": "Db1gItv3E4Bv"
      },
      "execution_count": null,
      "outputs": []
    },
    {
      "cell_type": "code",
      "source": [
        "sequences = tokenizer.texts_to_sequences(texts)"
      ],
      "metadata": {
        "id": "6bXsn9KlFOLe"
      },
      "execution_count": null,
      "outputs": []
    },
    {
      "cell_type": "code",
      "source": [
        "word_index = tokenizer.word_index  # mapping"
      ],
      "metadata": {
        "id": "ZdCCmyvoFfsG"
      },
      "execution_count": null,
      "outputs": []
    },
    {
      "cell_type": "code",
      "source": [
        "data = pad_sequences(sequences, maxlen=MAX_SEQUENCE_LENGTH, padding='pre', truncating='pre')"
      ],
      "metadata": {
        "id": "-AMuJCWhqIKB"
      },
      "execution_count": null,
      "outputs": []
    },
    {
      "cell_type": "code",
      "source": [
        "data.shape"
      ],
      "metadata": {
        "colab": {
          "base_uri": "https://localhost:8080/"
        },
        "id": "MwwHF-7FJNbO",
        "outputId": "0e9a5aa9-fe75-4684-aa3d-46322a048690"
      },
      "execution_count": null,
      "outputs": [
        {
          "output_type": "execute_result",
          "data": {
            "text/plain": [
              "(6335, 6000)"
            ]
          },
          "metadata": {},
          "execution_count": 139
        }
      ]
    },
    {
      "cell_type": "code",
      "source": [
        "data[0]"
      ],
      "metadata": {
        "colab": {
          "base_uri": "https://localhost:8080/"
        },
        "id": "3wyiO9vUJQPs",
        "outputId": "ec305ce1-cadb-45cb-9b7e-c89fc847a712"
      },
      "execution_count": null,
      "outputs": [
        {
          "output_type": "execute_result",
          "data": {
            "text/plain": [
              "array([  0,   0,   0, ..., 391, 765,  23], dtype=int32)"
            ]
          },
          "metadata": {},
          "execution_count": 140
        }
      ]
    },
    {
      "cell_type": "code",
      "source": [
        "x_train, x_val, y_train, y_val = train_test_split(data, labels, test_size=TEST_SPLIT)"
      ],
      "metadata": {
        "id": "eyQ_AujLqKA6"
      },
      "execution_count": null,
      "outputs": []
    },
    {
      "cell_type": "code",
      "source": [
        "print(len(x_train))\n",
        "print(len(x_val))"
      ],
      "metadata": {
        "colab": {
          "base_uri": "https://localhost:8080/"
        },
        "id": "RzCzbysMJs4Y",
        "outputId": "2925d325-63f9-4762-fa04-c9eab16519ae"
      },
      "execution_count": null,
      "outputs": [
        {
          "output_type": "stream",
          "name": "stdout",
          "text": [
            "5068\n",
            "1267\n"
          ]
        }
      ]
    },
    {
      "cell_type": "markdown",
      "source": [
        "**Build and train model**"
      ],
      "metadata": {
        "id": "PcdsiB2ZJ3km"
      }
    },
    {
      "cell_type": "markdown",
      "source": [
        "Embeddings with convolutional neural networks (CNNs) can be beneficial in various natural language processing (NLP) tasks. Embeddings are dense vector representations of words or tokens that capture semantic relationships between them. When combined with convolutional layers, these embeddings can enhance the performance of models in tasks such as text classification, sentiment analysis, and sequence labeling. Here are some reasons why embeddings and convolutional layers are often used together:\n",
        "<br>\n",
        "<br>\n",
        "\n",
        "**Semantic Representation**:\n",
        "\n",
        "Embeddings provide a more meaningful and semantically rich representation of words compared to one-hot encoding. This allows the convolutional layers to capture more intricate relationships between words in the input data.\n",
        "<br>\n",
        "<br>\n",
        "**Dimensionality Reduction:**\n",
        "\n",
        "Word embeddings usually have lower dimensionality compared to one-hot encodings, which helps in reducing the computational complexity of the model. Convolutional layers applied to lower-dimensional embeddings are computationally more efficient.\n",
        "<br>\n",
        "<br>\n",
        "**Local Context:**\n",
        "\n",
        "Convolutional layers are designed to capture local patterns or features in the input data. When applied to word embeddings, they can identify relevant local patterns within a sequence of words, aiding in understanding the local context of a word within a sentence.\n",
        "Parameter Sharing:\n",
        "\n",
        "Convolutional layers use parameter sharing, meaning the same filter is applied to different parts of the input. This enables the network to learn spatial hierarchies of features. When combined with embeddings, parameter sharing allows the model to recognize similar semantic structures in different parts of the input.\n",
        "<br>\n",
        "<br>\n",
        "**Invariance to Word Order:**\n",
        "\n",
        "CNNs with embeddings can exhibit some degree of invariance to the order of words in a sequence. This can be advantageous for tasks where the exact word order is less important, such as text classification or sentiment analysis.\n",
        "<br>\n",
        "<br>\n",
        "**Pooling Operations:**\n",
        "\n",
        "Pooling layers, often used in conjunction with convolutional layers, help in reducing the spatial dimensions of the input data. When applied to embeddings, pooling can aggregate information at different scales, helping the model focus on important features.\n",
        "<br>\n",
        "<br>\n",
        "**Efficient Feature Extraction:**\n",
        "\n",
        "Convolutional layers act as feature extractors, and when combined with embeddings, they efficiently capture hierarchical features in the input data. This can be especially useful for understanding the hierarchical structure of language.\n",
        "<br>\n",
        "<br>\n",
        "<br>\n",
        "<br>\n",
        "In summary, using embeddings with convolutional layers allows neural networks to leverage semantically rich representations and capture local patterns, making them effective for various NLP tasks."
      ],
      "metadata": {
        "id": "IFoa9qoav1DH"
      }
    },
    {
      "cell_type": "code",
      "source": [
        "model = Sequential()\n",
        "model.add(layers.Embedding(unique_num_words, EMBEDDING_DIM, input_length=MAX_SEQUENCE_LENGTH, trainable=True))\n",
        "model.add(layers.Conv1D(128, 5, activation='relu'))\n",
        "model.add(layers.GlobalMaxPooling1D())\n",
        "\n",
        "model.add(layers.Dense(128, activation='relu'))\n",
        "model.add(layers.Dense(1, activation='sigmoid'))\n",
        "\n",
        "\n",
        "model.compile(loss='binary_crossentropy',\n",
        "              optimizer='rmsprop',\n",
        "              metrics=['accuracy'])\n",
        "\n",
        "model.summary()"
      ],
      "metadata": {
        "colab": {
          "base_uri": "https://localhost:8080/"
        },
        "id": "TziDm9UUqLG8",
        "outputId": "8b392c7e-56a0-4903-b5c7-bda587f73ff5"
      },
      "execution_count": null,
      "outputs": [
        {
          "output_type": "stream",
          "name": "stdout",
          "text": [
            "Model: \"sequential_3\"\n",
            "_________________________________________________________________\n",
            " Layer (type)                Output Shape              Param #   \n",
            "=================================================================\n",
            " embedding_3 (Embedding)     (None, 6000, 256)         34564352  \n",
            "                                                                 \n",
            " conv1d_3 (Conv1D)           (None, 5996, 128)         163968    \n",
            "                                                                 \n",
            " global_max_pooling1d_3 (Gl  (None, 128)               0         \n",
            " obalMaxPooling1D)                                               \n",
            "                                                                 \n",
            " dense_6 (Dense)             (None, 128)               16512     \n",
            "                                                                 \n",
            " dense_7 (Dense)             (None, 1)                 129       \n",
            "                                                                 \n",
            "=================================================================\n",
            "Total params: 34744961 (132.54 MB)\n",
            "Trainable params: 34744961 (132.54 MB)\n",
            "Non-trainable params: 0 (0.00 Byte)\n",
            "_________________________________________________________________\n"
          ]
        }
      ]
    },
    {
      "cell_type": "code",
      "source": [
        "history = model.fit(x_train,\n",
        "                    y_train,\n",
        "                    batch_size=BATCH_SIZE,\n",
        "                    epochs=EPOCHS,\n",
        "                    validation_data=(x_val, y_val))"
      ],
      "metadata": {
        "colab": {
          "base_uri": "https://localhost:8080/"
        },
        "id": "8iWE6HidqMub",
        "outputId": "aecfe229-fbf9-45ac-ff4c-0024d7833827"
      },
      "execution_count": null,
      "outputs": [
        {
          "output_type": "stream",
          "name": "stdout",
          "text": [
            "Epoch 1/5\n",
            "159/159 [==============================] - 21s 118ms/step - loss: 0.4238 - accuracy: 0.7950 - val_loss: 0.2227 - val_accuracy: 0.9274\n",
            "Epoch 2/5\n",
            "159/159 [==============================] - 17s 108ms/step - loss: 0.1392 - accuracy: 0.9457 - val_loss: 0.2688 - val_accuracy: 0.8887\n",
            "Epoch 3/5\n",
            "159/159 [==============================] - 16s 101ms/step - loss: 0.0385 - accuracy: 0.9888 - val_loss: 0.1365 - val_accuracy: 0.9519\n",
            "Epoch 4/5\n",
            "159/159 [==============================] - 17s 105ms/step - loss: 0.0041 - accuracy: 0.9998 - val_loss: 0.1637 - val_accuracy: 0.9558\n",
            "Epoch 5/5\n",
            "159/159 [==============================] - 17s 106ms/step - loss: 3.6241e-04 - accuracy: 1.0000 - val_loss: 0.1705 - val_accuracy: 0.9534\n"
          ]
        }
      ]
    },
    {
      "cell_type": "code",
      "source": [
        "history.history.keys()"
      ],
      "metadata": {
        "colab": {
          "base_uri": "https://localhost:8080/"
        },
        "id": "hbUceod4qOOR",
        "outputId": "210e4356-2826-4af4-bc6c-87fd1a652964"
      },
      "execution_count": null,
      "outputs": [
        {
          "output_type": "execute_result",
          "data": {
            "text/plain": [
              "dict_keys(['loss', 'accuracy', 'val_loss', 'val_accuracy'])"
            ]
          },
          "metadata": {},
          "execution_count": 145
        }
      ]
    },
    {
      "cell_type": "code",
      "source": [
        "fig, ax = plt.subplots(1, 2, figsize=(15, 5))\n",
        "fig.tight_layout(pad=5.0)\n",
        "\n",
        "ax[0].plot(history.history['accuracy'])\n",
        "ax[0].plot(history.history['val_accuracy'])\n",
        "ax[0].set_title(\"Accuracy\")\n",
        "ax[0].set_ylabel('Accuracy')\n",
        "ax[0].set_xlabel('Epoch')\n",
        "ax[0].legend(['Train', 'Val'], loc='upper left')\n",
        "\n",
        "ax[1].plot(history.history['loss'])\n",
        "ax[1].plot(history.history['val_loss'])\n",
        "ax[1].set_title(\"Loss\")\n",
        "ax[1].set_ylabel('Loss')\n",
        "ax[1].set_xlabel('Epoch')\n",
        "ax[1].legend(['Train', 'Val'], loc='upper left')\n",
        "\n",
        "plt.show()"
      ],
      "metadata": {
        "colab": {
          "base_uri": "https://localhost:8080/",
          "height": 349
        },
        "id": "c98nCcXXzEwu",
        "outputId": "118b4a74-e5b5-4f56-aa5b-7a8dc739e23a"
      },
      "execution_count": null,
      "outputs": [
        {
          "output_type": "display_data",
          "data": {
            "text/plain": [
              "<Figure size 1500x500 with 2 Axes>"
            ],
            "image/png": "[encoded data removed]"
          },
          "metadata": {}
        }
      ]
    },
    {
      "cell_type": "markdown",
      "source": [
        "**Predictions**"
      ],
      "metadata": {
        "id": "fDaQOEpFYQe6"
      }
    },
    {
      "cell_type": "code",
      "source": [
        "model.evaluate(x_val, y_val, batch_size=200)"
      ],
      "metadata": {
        "colab": {
          "base_uri": "https://localhost:8080/"
        },
        "id": "1EPFu39R8daa",
        "outputId": "f2ef39a5-8ffd-4a52-ee5a-85ff392ebc26"
      },
      "execution_count": null,
      "outputs": [
        {
          "output_type": "stream",
          "name": "stdout",
          "text": [
            "7/7 [==============================] - 4s 247ms/step - loss: 0.1705 - accuracy: 0.9534\n"
          ]
        },
        {
          "output_type": "execute_result",
          "data": {
            "text/plain": [
              "[0.1704949289560318, 0.9534333348274231]"
            ]
          },
          "metadata": {},
          "execution_count": 147
        }
      ]
    },
    {
      "cell_type": "code",
      "source": [
        "def get_accuracy_details(x: np.array, y: np.array, model: Sequential, classes: list) -> Tuple[float, defaultdict]:\n",
        "    acc_per_class = defaultdict(int)\n",
        "    class_counters = defaultdict(int)\n",
        "\n",
        "    data_len = len(y)\n",
        "    matching_values = (x == y).sum()\n",
        "    overall_acc = round(matching_values/data_len * 100, 4)\n",
        "\n",
        "    for prediction, label in zip(x, y):\n",
        "      class_counters[classes[label]] += 1\n",
        "      if label == prediction:\n",
        "          acc_per_class[classes[label]] += 1\n",
        "\n",
        "    for class_name in acc_per_class.keys():\n",
        "        acc_per_class[class_name] = round(acc_per_class[class_name] / class_counters[class_name] * 100, 4)\n",
        "\n",
        "\n",
        "    return round(matching_values/data_len * 100, 4), acc_per_class"
      ],
      "metadata": {
        "id": "wnwnWCth-hFQ"
      },
      "execution_count": null,
      "outputs": []
    },
    {
      "cell_type": "code",
      "source": [
        "preds = model.predict(x_val)\n",
        "\n",
        "x = preds.round().flatten()\n",
        "y = np.array(y_val)\n",
        "\n",
        "get_accuracy_details(x=preds.round().flatten(), y=np.array(y_val), model=model, classes=CLASSES)"
      ],
      "metadata": {
        "colab": {
          "base_uri": "https://localhost:8080/"
        },
        "id": "ewO_OO6QXNw1",
        "outputId": "e927666a-a3fa-4471-eb84-1f9176086fa9"
      },
      "execution_count": null,
      "outputs": [
        {
          "output_type": "stream",
          "name": "stdout",
          "text": [
            "40/40 [==============================] - 1s 18ms/step\n"
          ]
        },
        {
          "output_type": "execute_result",
          "data": {
            "text/plain": [
              "(95.3433, defaultdict(int, {'Real': 95.4839, 'Fake': 95.2087}))"
            ]
          },
          "metadata": {},
          "execution_count": 149
        }
      ]
    },
    {
      "cell_type": "code",
      "source": [
        "text1 = \"\"\"\n",
        "Google Pinterest Digg Linkedin Reddit Stumbleupon Print Delicious Pocket Tumblr\n",
        "There are two fundamental truths in this world: Paul Ryan desperately wants to be president. And Paul Ryan will never be president. Today proved it.\n",
        "In a particularly staggering example of political cowardice, Paul Ryan re-re-re-reversed course and announced that he was back on the Trump Train after all. This was an aboutface from where he was a few weeks ago. He had previously declared he would not be supporting or defending Trump after a tape was made public in which Trump bragged about assaulting women. Suddenly, Ryan was appearing at a pro-Trump rally and boldly declaring that he already sent in his vote to make him President of the United States. It was a surreal moment. The figurehead of the Republican Party dosed himself in gasoline, got up on a stage on a chilly afternoon in Wisconsin, and lit a match. . @SpeakerRyan says he voted for @realDonaldTrump : “Republicans, it is time to come home” https://t.co/VyTT49YvoE pic.twitter.com/wCvSCg4a5I\n",
        "— ABC News Politics (@ABCPolitics) November 5, 2016\n",
        "The Democratic Party couldn’t have asked for a better moment of film. Ryan’s chances of ever becoming president went down to zero in an instant. In the wreckage Trump is to leave behind in his wake, those who cravenly backed his campaign will not recover. If Ryan’s career manages to limp all the way to 2020, then the DNC will have this tape locked and loaded to be used in every ad until Election Day.\n",
        "The ringing endorsement of the man he clearly hates on a personal level speaks volumes about his own spinelessness. Ryan has postured himself as a “principled” conservative, and one uncomfortable with Trump’s unapologetic bigotry and sexism. However, when push came to shove, Paul Ryan – like many of his colleagues – turned into a sniveling appeaser. After all his lofty tak about conviction, his principles were a house of cards and collapsed with the slightest breeze.\n",
        "What’s especially bizarre is how close Ryan came to making it through unscathed. For months the Speaker of the House refused to comment on Trump at all. His strategy seemed to be to keep his head down, pretend Trump didn’t exist, and hope that nobody remembered what happened in 2016. Now, just days away from the election, he screwed it all up.\n",
        "If 2016’s very ugly election has done any good it’s by exposing the utter cowardice of the Republicans who once feigned moral courage. A reality television star spit on them, hijacked their party, insulted their wives, and got every last one of them to kneel before him. What a turn of events.\n",
        "Featured image via Twitter\n",
        "\"\"\"\n",
        "\n",
        "\n",
        "text2 = \"\"\"\n",
        "The Empira Group has examined the developments and challenges of office property markets in Europe, in particular by linking them to economic, demographic and regulatory indicators, as part of a recent research report. The study analysed the office markets of 24 major European cities.\n",
        "In the previous dynamic market phase, there was a strong increase in new office space in the seven largest office locations in Germany, particularly in Berlin. Until 2014, less than 200,000 sqm of new office space were created in the capital each year, whereas in 2021 and 2022, the figure was over 500,000 sqm in each year.\n",
        "There is a high need for refurbishment, as three quarters of all buildings in the EU are currently considered energy inefficient. This also has a direct impact on the office property market. Energy efficiency is becoming a key criterion in the selection of office space and therefore has a significant influence on the qualitative requirements of buyers.\n",
        "Prof Steffen Metzner, head of research at the Empira Group\n",
        "Only a small proportion of office properties in Germany's top seven cities are currently certified – between 7 pct in Stuttgart and 26 pct in Frankfurt am Main. Certification practice to date indicates that energy efficient buildings in particular have been certified in order to increase their value. Certification was often avoided for less efficient buildings, which indicates high costs compared to the benefits. It is therefore to be expected that many of the buildings still to be certified will require extensive energy refurbishment.\n",
        "In European countries, the proportion of buildings that do not fulfil the requirements of efficiency class D or higher varies considerably. The European Commission only publishes specific data on this for selected countries. In the Netherlands, almost half of all office space corresponds to at least energy efficiency class B, which indicates a high proportion of office buildings with an excellent energy standard. Many of these buildings are either modern new buildings that meet current energy standards or older buildings that have been modernised through extensive renovations. France and the United Kingdom have similar energy profiles for their office buildings. In both countries, around 70 pct of office buildings are assigned to energy efficiency classes C to E. However, more than 20 pct of office buildings in these countries meet a very high energy standard. The short-term need for action in these countries is comparatively low.\n",
        "As the new construction rates of the other German cities fall significantly behind Berlin, it can be concluded that a continuous renewal of the existing stock is not realistic in the medium term purely on the basis of current levels of new office construction activity. With new construction rates of just over one per cent, the office stock in Germany's top 7 locations continues to age. It can be assumed that there is a comparatively high need for investment to modernise the German stock.\n",
        "\"\"\"\n",
        "\n",
        "text3 = \"\"\"\n",
        "U.S. Secretary of State John F. Kerry said Monday that he will stop in Paris later this week, amid criticism that no top American officials attended Sunday’s unity march against terrorism.\n",
        "Kerry said he expects to arrive in Paris Thursday evening, as he heads home after a week abroad. He said he will fly to France at the conclusion of a series of meetings scheduled for Thursday in Sofia, Bulgaria. He plans to meet the next day with Foreign Minister Laurent Fabius and President Francois Hollande, then return to Washington.\n",
        "The visit by Kerry, who has family and childhood ties to the country and speaks fluent French, could address some of the criticism that the United States snubbed France in its darkest hour in many years.\n",
        "The French press on Monday was filled with questions about why neither President Obama nor Kerry attended Sunday’s march, as about 40 leaders of other nations did. Obama was said to have stayed away because his own security needs can be taxing on a country, and Kerry had prior commitments.\n",
        "Among roughly 40 leaders who did attend was Israeli Prime Minister Benjamin Netanyahu, no stranger to intense security, who marched beside Hollande through the city streets. The highest ranking U.S. officials attending the march were Jane Hartley, the ambassador to France, and Victoria Nuland, the assistant secretary of state for European affairs. Attorney General Eric H. Holder Jr. was in Paris for meetings with law enforcement officials but did not participate in the march.\n",
        "Kerry spent Sunday at a business summit hosted by India’s prime minister, Narendra Modi. The United States is eager for India to relax stringent laws that function as barriers to foreign investment and hopes Modi’s government will act to open the huge Indian market for more American businesses.\n",
        "In a news conference, Kerry brushed aside criticism that the United States had not sent a more senior official to Paris as “quibbling a little bit.” He noted that many staffers of the American Embassy in Paris attended the march, including the ambassador. He said he had wanted to be present at the march himself but could not because of his prior commitments in India.\n",
        "“But that is why I am going there on the way home, to make it crystal clear how passionately we feel about the events that have taken place there,” he said.\n",
        "“And I don’t think the people of France have any doubts about America’s understanding of what happened, of our personal sense of loss and our deep commitment to the people of France in this moment of trauma.”\n",
        "\"\"\"\n",
        "\n",
        "\n",
        "text4 = \"\"\"\n",
        "Brutal’ Arctic blast expected to bring frigid temperatures to North America\n",
        "Extreme cold warning issued in Canada as US forecasters warn of wind chills in Texas and major snow in midwest and east coast\n",
        "\n",
        "Oliver Milman in New York and Leyland Cecco in Toronto\n",
        "Thu 11 Jan 2024 17.44 CET\n",
        "A “bitter” blast of cold Arctic air is set to bring dangerously frigid temperatures to swaths of North America, forecasters have warned.\n",
        "\n",
        "In Canada, frigid Arctic air is being pushed from the Northwest Territories down into the province of Alberta, where Environment Canada has issued an extreme cold warning. Alberta’s largest city, Calgary, could see temperatures plummet to -34.6F (-37C) on Friday, reaching a daytime high of -23.8F (-31C). This would mark the coldest January day in two decades for the city. Over the weekend, strong winds could make temperatures feel closer to -58F (-50C). In these conditions, experts say exposed skin can succumb to frostbite in less than a minute.\n",
        "\n",
        "The cold front is set to also set to push from the Rockies towards northern US plains on Thursday night before advancing south, the National Weather Service said, likely causing daily cold records to tumble in several places. In Texas and the south east, “dangerously cold wind chills” are expected that will push temperatures below freezing.\n",
        "\n",
        "\n",
        "“Temperatures will be brutal compared to the relatively mild conditions that have been experienced for much of the winter season up to this point in time,” an alert from the weather service said.\n",
        "\n",
        "Most of the United States is expected to be hit by the cold weather, with Chicago expected to go below -10F (-23C) for the first time since 2019, and Oklahoma City below 0F (-17.7) for the first time since February 2021. Wind chills could make push temperatures in parts of the Rockies to -30F (-34.4C), posing the risk of hypothermia to anyone caught in this weather.\n",
        "\n",
        "Meanwhile, major snowstorms, sleet and rain are expected to affect the midwest and east coast, with the weather service warning of “major disruption” from 12in of snow set to fall upon parts of Michigan, with high winds set to cause blizzard conditions in the Great Lakes region. In the north-east, there could be river and coastal flooding due to storms and heavy rain.\n",
        "\n",
        "The cold front will be a significant change for parts of the country that have so far experienced a very mild winter, with meagre snowfall and above-average temperatures.\n",
        "\n",
        "Last year was the fifth hottest year on record in the US, the National Oceanic and Atmospheric Administration confirmed on Tuesday, with 2023 being the hottest globally by a large margin.\n",
        "\n",
        "Climate researchers have theorized that sudden extreme blasts of cold weather in the US could, in some cases, be fueled by global heating. The Arctic is warming up four times faster than the rest of the planet, causing changes to the circular pattern of winds called the polar vortex, which usually keeps the cold massed upon the polar region.\n",
        "\n",
        "As this pattern becomes more “wavy”, freezing cold can drop southwards, which is what researchers believed happened during the deadly cold snap in Texas in 2021.\n",
        "\"\"\"\n",
        "\n",
        "\n",
        "text5 = \"\"\"\n",
        "Bangladesh: Statement by the High Representative on behalf of the European Union on the parliamentary elections\n",
        "The European Union takes note of the outcome of the Parliamentary elections, which were held in Bangladesh last Sunday and reiterates that the long-term EU-Bangladesh partnership is underpinned by the values of democracy, human rights and the rule of law.\n",
        "\n",
        "The EU regrets that not all major parties participated in this election.\n",
        "\n",
        "The EU welcomes the agreement of the authorities to make public the upcoming report and recommendations of the EU Election Expert Mission. In the same spirit of transparency and accountability, we call upon the relevant authorities to ensure a timely and full investigation of all reported election irregularities.\n",
        "\n",
        "The EU condemns the acts of violence that occurred during the electoral period and urges everybody to refrain from violence in the post-election period. It is also key that the rule of law, judicial independence, due process and the right to peaceful assembly are respected and upheld in this period and beyond. In this regard, detention of opposition figures is highly concerning.\n",
        "\n",
        "The EU strongly encourages all stakeholders to respect political pluralism, democratic values and international human rights standards and to engage in peaceful dialogue. It is essential that the media, civil society and political parties can carry out their work without censorship or fear of reprisals.\n",
        "\n",
        "The EU will continue to work with the Government of Bangladesh on the priorities that characterise our longstanding relations in the political, human rights, trade and development spheres including the country’s possible future access to the GSP+ preferential trade scheme.\n",
        "\"\"\"\n",
        "\n",
        "\n",
        "text6 = \"\"\"\n",
        "Keir Starmer denies he knew CPS was prosecuting post office operators\n",
        "Labour leader was director of public prosecutions when three cases brought by CPS resulted in convictions\n",
        "\n",
        "Ben Quinn Political Correspondent\n",
        "@BenQuinn75\n",
        "Wed 10 Jan 2024 23.30 CET\n",
        "Keir Starmer has denied he was aware of Crown Prosecution Service prosecutions against post office operators caught up in the Horizon IT scandal when he headed the agency.\n",
        "\n",
        "The Labour leader’s comments came as calls grew for the former Post Office boss Paula Vennells to hand back £3m in bonuses earned during her period in charge.\n",
        "\n",
        "Starmer, who was director of public prosecutions between 2008 and 2013, addressed questions about what he knew about up to 38 prosecutions of post office operators initiated by the CPS.\n",
        "\n",
        "“No, I wasn’t aware of any of them. I think there was a small number within a 20-year window, that’s all I know,” he said.\n",
        "\n",
        "\n",
        "“I don’t even now – I think the CPS are helping with inquiries – how many of those may or may not have involved Horizon.”\n",
        "\n",
        "While the Post Office itself prosecuted hundreds of post office operators based on the faulty Horizon IT system, it has emerged from official reviews that 10 cases taken by the CPS resulted in convictions. Three occurred while Starmer was DPP.\n",
        "\n",
        "“They didn’t go to his desk,” a Labour spokesperson said.\n",
        "\n",
        "Separately, pressure continue to mount on Vennells, 64, a day after she announced she would hand back the CBE awarded to her when she headed the Post Office, with Rishi Sunak’s spokesperson signalling he took a dim view of those holding on to bonuses.\n",
        "\n",
        "“In general terms it would be wrong for businesses or individuals to profit from this miscarriage of justice,” he said.\n",
        "\n",
        "Kevin Hollinrake, minister for postal services, also conceded in parliament that many would see Vennells serving as a Cabinet Office director during 2019 to 2020 as a “mistake”.\n",
        "\n",
        "His comments followed a question from Liberal Democrat Daisy Cooper, who said: “Paula Vennells has quite rightly handed back her CBE, but many subpostmasters are asking why she was given it in the first place, and also why she was given a role as director of the Cabinet Office?”\n",
        "\n",
        "Hollinrake responded: “It clearly was prior to my time in government, but she raises some interesting points, I don’t know the answer to her question. I think with hindsight many people would see that as a mistake, but very happy to take that away.”\n",
        "\n",
        "skip past newsletter promotion\n",
        "Sign up to First Edition\n",
        "\n",
        "Free daily newsletter\n",
        "Our morning email breaks down the key stories of the day, telling you what’s happening and why it matters\n",
        "\n",
        "\n",
        "Privacy Notice: Newsletters may contain info about charities, online ads, and content funded by outside parties. For more information see our Privacy Policy. We use Google reCaptcha to protect our website and the Google Privacy Policy and Terms of Service apply.\n",
        "after newsletter promotion\n",
        "\n",
        "After Hollinrake’s comments, the Lib Dems also called on the deputy prime minister, Oliver Dowden, to “come clean” over his failure to sack Vennells. Dowden was Cabinet Office minister in 2019 when a high court judgment was handed down in which a group of 555 post office operators won a group action brought against the Post Office.\n",
        "\n",
        "The high court ruled that Horizon contained a number of “bugs, errors and defects”, and there was a “material risk” that shortfalls in post office branch accounts were caused by the system.\n",
        "\n",
        "A Conservative former minister also claimed that while he was in government, Vennells refused to meet him without her lawyer present.\n",
        "\n",
        "George Freeman, a former business minister, told MPs: “I was never minister for the Post Office, but I remember as a minister in the department being asked to cover for an absent minister, and when refusing to just read out the speech but ask for a proper day of briefings from officials, and asked to meet Paula Vennells, I was told she would refuse to meet me without her lawyer.”\n",
        "\"\"\""
      ],
      "metadata": {
        "id": "QLqaITO_P8yM"
      },
      "execution_count": null,
      "outputs": []
    },
    {
      "cell_type": "code",
      "source": [
        "\n",
        "text_array = np.array([text1, text2, text3, text4, text5, text6])\n",
        "tokinized_array = tokenizer.texts_to_sequences(text_array)\n",
        "data = pad_sequences(tokinized_array,\n",
        "                     maxlen=MAX_SEQUENCE_LENGTH,\n",
        "                     padding='pre',\n",
        "                     truncating='pre')\n",
        "\n",
        "\n",
        "preds = model.predict(data).round()\n",
        "for pred in preds.squeeze():\n",
        "    print(CLASSES[int(pred)])\n",
        "\n"
      ],
      "metadata": {
        "colab": {
          "base_uri": "https://localhost:8080/"
        },
        "id": "AJdOlZeqrcsq",
        "outputId": "79f9ed65-ccdb-40be-d48d-3d191b50431d"
      },
      "execution_count": null,
      "outputs": [
        {
          "output_type": "stream",
          "name": "stdout",
          "text": [
            "1/1 [==============================] - 0s 252ms/step\n",
            "Fake\n",
            "Real\n",
            "Real\n",
            "Real\n",
            "Fake\n",
            "Real\n"
          ]
        }
      ]
    },
    {
      "cell_type": "markdown",
      "source": [
        "**Save model and tokenizer**"
      ],
      "metadata": {
        "id": "Jqvjm8QbaBAj"
      }
    },
    {
      "cell_type": "code",
      "source": [
        "with open(TOKENIZER_PATH, \"wb\") as f:\n",
        "    pickle.dump(tokenizer, f)\n",
        "\n",
        "\n",
        "model.save(MODEL_PATH)"
      ],
      "metadata": {
        "colab": {
          "base_uri": "https://localhost:8080/"
        },
        "id": "KpSfa-aSaAtM",
        "outputId": "01ca8358-039c-4cc4-b9fa-2bcd29df00a6"
      },
      "execution_count": null,
      "outputs": [
        {
          "output_type": "stream",
          "name": "stderr",
          "text": [
            "/usr/local/lib/python3.10/dist-packages/keras/src/engine/training.py:3103: UserWarning: You are saving your model as an HDF5 file via `model.save()`. This file format is considered legacy. We recommend using instead the native Keras format, e.g. `model.save('my_model.keras')`.\n",
            "  saving_api.save_model(\n"
          ]
        }
      ]
    },
    {
      "cell_type": "markdown",
      "source": [
        "**Load model and tokenizer**"
      ],
      "metadata": {
        "id": "_Kz0QPgiXQq9"
      }
    },
    {
      "cell_type": "code",
      "source": [
        "with open(TOKENIZER_PATH, \"rb\") as f:\n",
        "    tokenizer = pickle.load(f)\n",
        "\n",
        "\n",
        "model = tf.keras.models.load_model(MODEL_PATH)"
      ],
      "metadata": {
        "id": "4et9o4kSXI5i"
      },
      "execution_count": null,
      "outputs": []
    }
  ]
}